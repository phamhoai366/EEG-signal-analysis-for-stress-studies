{
 "cells": [
  {
   "cell_type": "code",
   "execution_count": null,
   "metadata": {},
   "outputs": [],
   "source": [
    "!pip install spkit\n",
    "!pip install scikeras"
   ]
  },
  {
   "cell_type": "code",
   "execution_count": null,
   "metadata": {},
   "outputs": [],
   "source": [
    "import os\n",
    "import sys\n",
    "\n",
    "import scipy.io\n",
    "import pandas as pd\n",
    "import matplotlib.pyplot as plt\n",
    "import numpy as np\n",
    "import math\n",
    "from scipy.interpolate import griddata\n",
    "\n",
    "from numpy import genfromtxt\n",
    "import csv\n",
    "import spkit as sp\n",
    "\n",
    "import keras\n",
    "from keras.models import Sequential\n",
    "from keras.layers import Dense, Dropout, Activation, Flatten\n",
    "from keras.layers import Conv2D, MaxPooling2D\n",
    "from keras.layers import Reshape, LSTM\n",
    "from sklearn.model_selection import train_test_split\n",
    "from tensorflow.keras.callbacks import EarlyStopping\n",
    "\n",
    "from sklearn.metrics import classification_report, confusion_matrix\n",
    "from sklearn.metrics import accuracy_score, f1_score, precision_score, recall_score, classification_report, \\\n",
    "    confusion_matrix, balanced_accuracy_score, precision_recall_curve, matthews_corrcoef, roc_curve, jaccard_score, \\\n",
    "    hamming_loss, fbeta_score, precision_recall_fscore_support, zero_one_loss, average_precision_score\n",
    "from sklearn.metrics import cohen_kappa_score, roc_auc_score, mean_squared_error, auc\n",
    "import seaborn as sns\n",
    "\n",
    "from sklearn.model_selection import GridSearchCV\n",
    "from sklearn.model_selection import KFold\n",
    "\n",
    "# from keras.wrappers.scikit_learn import KerasClassifier\n",
    "from scikeras.wrappers import KerasClassifier\n",
    "\n",
    "from keras.optimizers import Adam"
   ]
  },
  {
   "cell_type": "markdown",
   "metadata": {},
   "source": [
    "# VISUALIZE DATA SAM40"
   ]
  },
  {
   "cell_type": "markdown",
   "metadata": {},
   "source": [
    "Tập dữ liệu này trình bày một tập hợp dữ liệu điện não đồ (EEG) được ghi lại từ 40 đối tượng (nữ: 14, nam: 26, tuổi trung bình: 21,5 tuổi). Thí nghiệm chủ yếu được thực hiện để theo dõi mức độ căng thẳng ngắn hạn gây ra ở một cá nhân trong khi thực hiện các nhiệm vụ khác nhau như kiểm tra từ màu Stroop, giải các câu hỏi số học, xác định hình ảnh phản chiếu đối xứng và trạng thái thư giãn. Các nhiệm vụ riêng lẻ được thực hiện trong 25 giây và ba thử nghiệm được ghi lại cho từng nhiệm vụ riêng lẻ. Điện não đồ được ghi lại từ 32 kênh (cộng với tham chiếu CMS/DRL) với dải động +/- 4,12 mV, với độ phân giải 0,51 µV/bit và phạm vi 14 bit. Điện não đồ được lấy mẫu ở 128 SPS (1024 Hz)"
   ]
  },
  {
   "cell_type": "code",
   "execution_count": null,
   "metadata": {},
   "outputs": [],
   "source": [
    "# Load data from .mat file\n",
    "mat_data_sam40 = scipy.io.loadmat('/content/drive/MyDrive/Colab_Notebooks/Thesis/Data/SAM_40/raw_data/Arithmetic_sub_10_trial1.mat')\n",
    "print('mat_data: ', mat_data_sam40, '\\nlen mat_data: ',  len(mat_data_sam40))\n",
    "print(mat_data_sam40['Data'])\n",
    "print(len(mat_data_sam40['Data']))\n",
    "print(mat_data_sam40['Data'].shape)"
   ]
  },
  {
   "cell_type": "code",
   "execution_count": null,
   "metadata": {},
   "outputs": [],
   "source": [
    "# Convert data to pandas DataFrame\n",
    "df = pd.DataFrame(mat_data_sam40['Data'])\n",
    "df.info()\n",
    "df.head()"
   ]
  },
  {
   "cell_type": "code",
   "execution_count": null,
   "metadata": {},
   "outputs": [],
   "source": [
    "# Load data from .mat file\n",
    "mat_data_sam40 = scipy.io.loadmat('/content/drive/MyDrive/Colab_Notebooks/Thesis/Data/SAM_40/raw_data/Arithmetic_sub_10_trial1.mat')\n",
    "\n",
    "# Convert data to pandas DataFrame and transpose it\n",
    "df = pd.DataFrame(mat_data_sam40['Data']).T\n",
    "\n",
    "# Create time stamps based on the sampling frequency (128 Hz)\n",
    "time_stamps = pd.date_range(start='1/1/2000', periods=df.shape[0], freq='7.8125ms')\n",
    "\n",
    "# Plot each feature as a separate subplot\n",
    "fig, axes = plt.subplots(nrows=df.shape[1], ncols=1, figsize=(15, 50))\n",
    "for i, ax in enumerate(axes):\n",
    "    ax.plot(time_stamps, df.iloc[:,i])\n",
    "    ax.set_ylabel('Feature {}'.format(i+1))\n",
    "\n",
    "# Set x-axis label to time and adjust the layout\n",
    "axes[-1].set_xlabel('Time')\n",
    "plt.tight_layout()\n",
    "plt.show()"
   ]
  },
  {
   "cell_type": "code",
   "execution_count": null,
   "metadata": {},
   "outputs": [],
   "source": []
  }
 ],
 "metadata": {
  "kernelspec": {
   "display_name": "Python 3",
   "language": "python",
   "name": "python3"
  },
  "language_info": {
   "codemirror_mode": {
    "name": "ipython",
    "version": 3
   },
   "file_extension": ".py",
   "mimetype": "text/x-python",
   "name": "python",
   "nbconvert_exporter": "python",
   "pygments_lexer": "ipython3",
   "version": "3.11.4"
  }
 },
 "nbformat": 4,
 "nbformat_minor": 2
}
